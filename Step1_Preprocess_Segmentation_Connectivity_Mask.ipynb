{
 "cells": [
  {
   "cell_type": "code",
   "execution_count": 5,
   "metadata": {},
   "outputs": [],
   "source": [
    "import os\n",
    "import glob\n",
    "import cv2\n",
    "import time\n",
    "import ntpath\n",
    "import random\n",
    "import skimage\n",
    "import numpy as np\n",
    "import pandas as pd\n",
    "import matplotlib.pyplot as plt\n",
    "\n",
    "from skimage import morphology\n",
    "from skimage import measure\n",
    "from skimage import color\n",
    "from skimage import segmentation"
   ]
  },
  {
   "cell_type": "code",
   "execution_count": 2,
   "metadata": {},
   "outputs": [
    {
     "name": "stdout",
     "output_type": "stream",
     "text": [
      "Get file_paths.\n"
     ]
    }
   ],
   "source": [
    "print(\"Get file_paths.\")\n",
    "        \n",
    "src_dir = \"D:/jupyter-notebook/LiverCancer/Image_Original/\"\n",
    "file_paths = []\n",
    "\n",
    "for fold in os.listdir(src_dir):\n",
    "    file_paths = file_paths + [file_path for file_path in glob.glob(src_dir+fold+\"/*.jpg\")]"
   ]
  },
  {
   "cell_type": "code",
   "execution_count": 20,
   "metadata": {
    "scrolled": true
   },
   "outputs": [
    {
     "name": "stdout",
     "output_type": "stream",
     "text": [
      "D:/jupyter-notebook/LiverCancer/Image_Original/grade0\\ImageN.01.jpg\n",
      "totally cost 257.3088743686676\n"
     ]
    },
    {
     "ename": "NameError",
     "evalue": "name 'sys' is not defined",
     "output_type": "error",
     "traceback": [
      "\u001b[1;31m---------------------------------------------------------------------------\u001b[0m",
      "\u001b[1;31mNameError\u001b[0m                                 Traceback (most recent call last)",
      "\u001b[1;32m<ipython-input-20-01410f9fd268>\u001b[0m in \u001b[0;36m<module>\u001b[1;34m\u001b[0m\n\u001b[0;32m     51\u001b[0m     \u001b[0mtime_end\u001b[0m\u001b[1;33m=\u001b[0m\u001b[0mtime\u001b[0m\u001b[1;33m.\u001b[0m\u001b[0mtime\u001b[0m\u001b[1;33m(\u001b[0m\u001b[1;33m)\u001b[0m\u001b[1;33m\u001b[0m\u001b[1;33m\u001b[0m\u001b[0m\n\u001b[0;32m     52\u001b[0m     \u001b[0mprint\u001b[0m\u001b[1;33m(\u001b[0m\u001b[1;34m'totally cost'\u001b[0m\u001b[1;33m,\u001b[0m\u001b[0mtime_end\u001b[0m\u001b[1;33m-\u001b[0m\u001b[0mtime_start\u001b[0m\u001b[1;33m)\u001b[0m\u001b[1;33m\u001b[0m\u001b[1;33m\u001b[0m\u001b[0m\n\u001b[1;32m---> 53\u001b[1;33m     \u001b[0msys\u001b[0m\u001b[1;33m.\u001b[0m\u001b[0mexit\u001b[0m\u001b[1;33m(\u001b[0m\u001b[1;36m0\u001b[0m\u001b[1;33m)\u001b[0m\u001b[1;33m\u001b[0m\u001b[1;33m\u001b[0m\u001b[0m\n\u001b[0m\u001b[0;32m     54\u001b[0m \u001b[1;33m\u001b[0m\u001b[0m\n",
      "\u001b[1;31mNameError\u001b[0m: name 'sys' is not defined"
     ]
    }
   ],
   "source": [
    "dst_path = \"D:/jupyter-notebook/LiverCancer/Image_Mask/\"\n",
    "out_csv = []\n",
    "\n",
    "for index, file_path in enumerate(file_paths):\n",
    "    \n",
    "    if index >= 0:\n",
    "        \n",
    "        time_start=time.time()\n",
    "        print(file_path)\n",
    "        \n",
    "        if \"grade0\" in file_path:\n",
    "            sample_label = 0\n",
    "        elif \"grade1\" in file_path:\n",
    "            sample_label = 1\n",
    "        elif \"grade2\" in file_path:\n",
    "            sample_label = 2\n",
    "        elif \"grade3\" in file_path:\n",
    "            sample_label = 3\n",
    "        elif \"grade4\" in file_path:\n",
    "            sample_label = 4\n",
    "            \n",
    "        #####################################################################################\n",
    "        sample_image = cv2.imread(file_path)\n",
    "        image_red = sample_image[:,:,2]\n",
    "        kernel = skimage.morphology.disk(20)\n",
    "        kernel_2 = skimage.morphology.disk(3)\n",
    "\n",
    "        image_closing = skimage.morphology.closing(image_red, kernel_2)\n",
    "        image_erosion = skimage.morphology.erosion(image_closing, kernel)\n",
    "        image_reconstruction_1 = skimage.morphology.reconstruction(image_erosion,image_closing).astype(np.uint8)\n",
    "        image_dialtion = skimage.morphology.dilation(image_reconstruction_1, kernel)\n",
    "        image_reconstruction_2 = skimage.morphology.reconstruction(image_dialtion, image_reconstruction_1, method='erosion').astype(np.uint8)\n",
    "\n",
    "        image_zero = (image_reconstruction_2 - image_reconstruction_2.mean()).astype(np.int)\n",
    "        image_binary = image_zero < - 10\n",
    "      \n",
    "        for i in range(3072):\n",
    "            for j in range(4080):\n",
    "                for k in range(3):\n",
    "                    if image_binary[i][j]==True:\n",
    "                        sample_image[i][j][k]=255\n",
    "                        \n",
    "        #####################################################################################              \n",
    "        fold_name = \"grade\" + str(sample_label) + \"/\"\n",
    "        file_name = ntpath.basename(file_path)\n",
    "        image_target_path = dst_path + fold_name + file_name\n",
    "        \n",
    "        cv2.imwrite(image_target_path, sample_image)\n",
    "        \n",
    "    #####################################################################################\n",
    "    time_end=time.time()\n",
    "    print('totally cost',time_end-time_start)\n",
    "    sys.exit(0)\n",
    "        "
   ]
  },
  {
   "cell_type": "code",
   "execution_count": 6,
   "metadata": {},
   "outputs": [],
   "source": [
    "sample_image = cv2.resize(sample_image, (256,256)) "
   ]
  },
  {
   "cell_type": "code",
   "execution_count": null,
   "metadata": {},
   "outputs": [],
   "source": []
  },
  {
   "cell_type": "code",
   "execution_count": null,
   "metadata": {},
   "outputs": [],
   "source": []
  }
 ],
 "metadata": {
  "kernelspec": {
   "display_name": "my_keras",
   "language": "python",
   "name": "my_keras"
  },
  "language_info": {
   "codemirror_mode": {
    "name": "ipython",
    "version": 3
   },
   "file_extension": ".py",
   "mimetype": "text/x-python",
   "name": "python",
   "nbconvert_exporter": "python",
   "pygments_lexer": "ipython3",
   "version": "3.6.12"
  }
 },
 "nbformat": 4,
 "nbformat_minor": 4
}
