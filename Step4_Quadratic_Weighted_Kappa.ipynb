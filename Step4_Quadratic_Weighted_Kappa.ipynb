{
 "cells": [
  {
   "cell_type": "code",
   "execution_count": 1,
   "metadata": {},
   "outputs": [],
   "source": [
    "import numpy as np\n",
    "import pandas as pd"
   ]
  },
  {
   "cell_type": "code",
   "execution_count": 2,
   "metadata": {},
   "outputs": [],
   "source": [
    "df = pd.read_csv(\"D:/jupyter-notebook/LiverCancer/Predict_Result/temp_result.csv\")\n",
    "\n",
    "rater_a = df.iloc[:,6].values.tolist()\n",
    "\n",
    "rater_b = []\n",
    "rater_b_temp = df.iloc[:,1:6].values.tolist()\n",
    "for i in range(len(df)):\n",
    "    max_index = rater_b_temp[i].index(max(rater_b_temp[i]))\n",
    "    rater_b.append(max_index)"
   ]
  },
  {
   "cell_type": "code",
   "execution_count": 6,
   "metadata": {},
   "outputs": [
    {
     "name": "stdout",
     "output_type": "stream",
     "text": [
      "[[18798, 13, 22, 21, 19], [4, 18040, 8, 382, 28], [5, 2, 11791, 774, 225], [9, 53, 205, 30154, 1013], [2, 62, 57, 1040, 8837]]\n"
     ]
    }
   ],
   "source": [
    "temp, conf = quadratic_weighted_kappa(rater_a,rater_b)"
   ]
  },
  {
   "cell_type": "code",
   "execution_count": 81,
   "metadata": {},
   "outputs": [
    {
     "name": "stdout",
     "output_type": "stream",
     "text": [
      "[[9, 0, 0, 0, 0], [0, 4, 0, 0, 0], [0, 0, 5, 0, 0], [0, 0, 0, 8, 0], [0, 0, 0, 0, 4]]\n"
     ]
    }
   ],
   "source": [
    "temp_1, conf_1 = quadratic_weighted_kappa(rater_a,rater_b)"
   ]
  },
  {
   "cell_type": "code",
   "execution_count": 83,
   "metadata": {},
   "outputs": [
    {
     "name": "stdout",
     "output_type": "stream",
     "text": [
      "[[9, 0, 0, 0, 0], [0, 5, 0, 0, 0], [0, 0, 6, 0, 0], [0, 0, 0, 4, 0], [0, 0, 0, 1, 5]]\n"
     ]
    }
   ],
   "source": [
    "temp_2, conf_2 = quadratic_weighted_kappa(rater_a,rater_b)"
   ]
  },
  {
   "cell_type": "code",
   "execution_count": 59,
   "metadata": {},
   "outputs": [
    {
     "name": "stdout",
     "output_type": "stream",
     "text": [
      "[[7, 0, 0, 0, 0], [0, 3, 0, 0, 0], [0, 0, 6, 1, 0], [0, 0, 1, 5, 0], [0, 0, 0, 0, 7]]\n"
     ]
    }
   ],
   "source": [
    "temp_3, conf_3 = quadratic_weighted_kappa(rater_a,rater_b)"
   ]
  },
  {
   "cell_type": "code",
   "execution_count": 61,
   "metadata": {},
   "outputs": [
    {
     "name": "stdout",
     "output_type": "stream",
     "text": [
      "[[7, 0, 0, 0, 0], [0, 4, 0, 0, 0], [1, 0, 4, 0, 0], [0, 2, 0, 3, 0], [0, 0, 0, 0, 9]]\n"
     ]
    }
   ],
   "source": [
    "temp_4, conf_4 = quadratic_weighted_kappa(rater_a,rater_b)"
   ]
  },
  {
   "cell_type": "code",
   "execution_count": 63,
   "metadata": {},
   "outputs": [
    {
     "name": "stdout",
     "output_type": "stream",
     "text": [
      "[[7, 0, 0, 0, 0], [0, 7, 0, 0, 0], [0, 0, 6, 1, 0], [0, 0, 0, 7, 0], [0, 0, 0, 0, 2]]\n"
     ]
    }
   ],
   "source": [
    "temp_5, conf_5 = quadratic_weighted_kappa(rater_a,rater_b)"
   ]
  },
  {
   "cell_type": "code",
   "execution_count": 65,
   "metadata": {},
   "outputs": [
    {
     "name": "stdout",
     "output_type": "stream",
     "text": [
      "[[10, 0, 0, 0, 0], [0, 5, 0, 0, 0], [0, 0, 5, 0, 0], [0, 0, 0, 6, 0], [0, 0, 1, 0, 3]]\n"
     ]
    }
   ],
   "source": [
    "temp_6, conf_6 = quadratic_weighted_kappa(rater_a,rater_b)"
   ]
  },
  {
   "cell_type": "code",
   "execution_count": 67,
   "metadata": {},
   "outputs": [
    {
     "name": "stdout",
     "output_type": "stream",
     "text": [
      "[[6, 0, 0, 0, 0], [0, 3, 0, 0, 0], [0, 0, 6, 0, 0], [0, 1, 1, 6, 1], [0, 0, 1, 0, 4]]\n"
     ]
    }
   ],
   "source": [
    "temp_7, conf_7 = quadratic_weighted_kappa(rater_a,rater_b)"
   ]
  },
  {
   "cell_type": "code",
   "execution_count": 69,
   "metadata": {},
   "outputs": [
    {
     "name": "stdout",
     "output_type": "stream",
     "text": [
      "[[7, 0, 0, 0, 0], [0, 5, 0, 0, 0], [0, 0, 5, 1, 0], [0, 0, 0, 5, 0], [0, 0, 0, 1, 5]]\n"
     ]
    }
   ],
   "source": [
    "temp_8, conf_8 = quadratic_weighted_kappa(rater_a,rater_b)"
   ]
  },
  {
   "cell_type": "code",
   "execution_count": 71,
   "metadata": {},
   "outputs": [
    {
     "name": "stdout",
     "output_type": "stream",
     "text": [
      "[[11, 0, 0, 0, 0], [0, 5, 0, 0, 0], [0, 0, 3, 0, 0], [0, 0, 1, 4, 0], [0, 0, 1, 0, 4]]\n"
     ]
    }
   ],
   "source": [
    "temp_9, conf_9 = quadratic_weighted_kappa(rater_a,rater_b)"
   ]
  },
  {
   "cell_type": "code",
   "execution_count": 73,
   "metadata": {},
   "outputs": [
    {
     "name": "stdout",
     "output_type": "stream",
     "text": [
      "[[5, 0, 0, 0, 0], [0, 5, 0, 0, 0], [0, 0, 2, 0, 1], [0, 0, 0, 12, 0], [0, 0, 0, 0, 4]]\n"
     ]
    }
   ],
   "source": [
    "temp_10, conf_10 = quadratic_weighted_kappa(rater_a,rater_b)"
   ]
  },
  {
   "cell_type": "code",
   "execution_count": 85,
   "metadata": {},
   "outputs": [
    {
     "name": "stdout",
     "output_type": "stream",
     "text": [
      "[[78  0  0  0  0]\n",
      " [ 0 46  0  0  0]\n",
      " [ 1  0 48  3  1]\n",
      " [ 0  3  3 60  1]\n",
      " [ 0  0  3  2 47]]\n"
     ]
    }
   ],
   "source": [
    "temp = np.array(conf_1) + np.array(conf_2) + np.array(conf_3) + np.array(conf_4) + np.array(conf_5)+ np.array(conf_6) + np.array(conf_7) + np.array(conf_8) + np.array(conf_9) + np.array(conf_10)\n",
    "print(temp)"
   ]
  },
  {
   "cell_type": "code",
   "execution_count": null,
   "metadata": {},
   "outputs": [],
   "source": []
  },
  {
   "cell_type": "code",
   "execution_count": 3,
   "metadata": {},
   "outputs": [],
   "source": [
    "def quadratic_weighted_kappa(rater_a, rater_b, min_rating=None, max_rating=None): \n",
    "    \n",
    "    rater_a = np.array(rater_a, dtype=int) \n",
    "    rater_b = np.array(rater_b, dtype=int) \n",
    "    \n",
    "    assert(len(rater_a) == len(rater_b)) \n",
    "    \n",
    "    if min_rating is None:\n",
    "        min_rating = min(min(rater_a), min(rater_b))\n",
    "    if max_rating is None:\n",
    "        max_rating = max(max(rater_a), max(rater_b))\n",
    "        \n",
    "    conf_mat = confusion_matrix(rater_a, rater_b, min_rating, max_rating)\n",
    "    \n",
    "    print(conf_mat)\n",
    "    \n",
    "    num_ratings = len(conf_mat) \n",
    "    num_scored_items = float(len(rater_a)) \n",
    "    \n",
    "    hist_rater_a = histogram(rater_a, min_rating, max_rating) \n",
    "    hist_rater_b = histogram(rater_b, min_rating, max_rating) \n",
    "    \n",
    "    numerator = 0.0 \n",
    "    denominator = 0.0 \n",
    "    \n",
    "    for i in range(num_ratings): \n",
    "        for j in range(num_ratings): \n",
    "            \n",
    "            expected_count = (hist_rater_a[i] * hist_rater_b[j] / num_scored_items) \n",
    "            d = pow(i - j, 2.0) / pow(num_ratings - 1, 2.0) \n",
    "            numerator += d * conf_mat[i][j] / num_scored_items \n",
    "            denominator += d * expected_count / num_scored_items \n",
    "            \n",
    "    return 1.0 - numerator / denominator, conf_mat "
   ]
  },
  {
   "cell_type": "markdown",
   "metadata": {},
   "source": [
    "# 一些封装起来的函数"
   ]
  },
  {
   "cell_type": "code",
   "execution_count": 4,
   "metadata": {},
   "outputs": [],
   "source": [
    "def confusion_matrix(rater_a, rater_b, min_rating=None, max_rating=None):\n",
    "\n",
    "    assert(len(rater_a) == len(rater_b))\n",
    "\n",
    "    num_ratings = int(max_rating - min_rating + 1)\n",
    "\n",
    "    conf_mat = [[0 for i in range(num_ratings)] for j in range(num_ratings)]\n",
    "\n",
    "    for a, b in zip(rater_a, rater_b):\n",
    "\n",
    "        conf_mat[a - min_rating][b - min_rating] += 1\n",
    "\n",
    "    return conf_mat"
   ]
  },
  {
   "cell_type": "code",
   "execution_count": 5,
   "metadata": {},
   "outputs": [],
   "source": [
    "def histogram(ratings, min_rating=None, max_rating=None):\n",
    "\n",
    "    num_ratings = int(max_rating - min_rating + 1)\n",
    "\n",
    "    hist_ratings = [0 for x in range(num_ratings)]\n",
    "\n",
    "    for r in ratings:\n",
    "\n",
    "        hist_ratings[r - min_rating] += 1\n",
    "    \n",
    "    return hist_ratings"
   ]
  },
  {
   "cell_type": "code",
   "execution_count": null,
   "metadata": {},
   "outputs": [],
   "source": []
  },
  {
   "cell_type": "code",
   "execution_count": null,
   "metadata": {},
   "outputs": [],
   "source": []
  },
  {
   "cell_type": "code",
   "execution_count": null,
   "metadata": {},
   "outputs": [],
   "source": []
  },
  {
   "cell_type": "code",
   "execution_count": null,
   "metadata": {},
   "outputs": [],
   "source": []
  }
 ],
 "metadata": {
  "kernelspec": {
   "display_name": "Python 3",
   "language": "python",
   "name": "python3"
  },
  "language_info": {
   "codemirror_mode": {
    "name": "ipython",
    "version": 3
   },
   "file_extension": ".py",
   "mimetype": "text/x-python",
   "name": "python",
   "nbconvert_exporter": "python",
   "pygments_lexer": "ipython3",
   "version": "3.8.5"
  }
 },
 "nbformat": 4,
 "nbformat_minor": 2
}
